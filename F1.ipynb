{
 "cells": [
  {
   "cell_type": "markdown",
   "id": "b8a93b02",
   "metadata": {},
   "source": [
    "# F1 Racing Simulator\n",
    "\n",
    "Simulating F1 racing with various control variables such as budgets, drivers and weather.\\\n",
    "\n",
    "Weather will increase the randomness of driver failing to finish the race because they crashed.\\\n",
    "\n",
    "Todo: \\\n",
    "non-determinism\\\n",
    "drivers\\\n",
    "weather"
   ]
  },
  {
   "cell_type": "code",
   "execution_count": 10,
   "id": "de80462a",
   "metadata": {
    "scrolled": false
   },
   "outputs": [],
   "source": [
    "from cadCAD.configuration import Experiment\n",
    "from cadCAD.configuration.utils import config_sim\n",
    "from teams import Team"
   ]
  },
  {
   "cell_type": "code",
   "execution_count": 11,
   "id": "ab025478",
   "metadata": {},
   "outputs": [],
   "source": [
    "# Team budget: https://beyondtheflag.com/2019/11/06/formula-1-current-team-budgets-175m-cap-impending/\n",
    "F1_teams = {\n",
    "    'mercedes': Team(\"Mercedes\", 484),\n",
    "    'redbull': Team(\"Red Bull\", 445),\n",
    "    'ferrari': Team(\"Ferrari\", 463),\n",
    "    'mclaren': Team(\"McLaren\", 269),\n",
    "    'renault': Team(\"Renault\", 272),\n",
    "    'racingpoint': Team(\"Racing Point\", 188),\n",
    "    'haas': Team(\"Haas\", 173),\n",
    "    'alfaromeo': Team(\"Alfa Romeo Racing\", 141),\n",
    "    'tororosso': Team(\"Toro Rosso\", 138),\n",
    "    'williams': Team(\"Williams\", 132)\n",
    "}\n",
    "\n",
    "genesis_states = {'F1_teams': F1_teams}"
   ]
  },
  {
   "cell_type": "markdown",
   "id": "a9bcc5f3",
   "metadata": {},
   "source": [
    "Policy function will determine how many points each team earns.\\\n",
    "For now, fastest car will always win the race."
   ]
  },
  {
   "cell_type": "code",
   "execution_count": 12,
   "id": "79ad9718",
   "metadata": {},
   "outputs": [],
   "source": [
    "point_scale = [25, 18, 15, 12, 10, 8, 6, 4, 2, 1]  \n",
    "\n",
    "# Policy functions\n",
    "def p_update_rank(_params, substep, sH, s, **kwargs):\n",
    "\n",
    "    prev_state = s['F1_teams']\n",
    "    \n",
    "    # For now, the team with a fastest car will win\n",
    "    sorted_state = sorted(F1_teams.items(), key=lambda team:team[1].car_speed(), reverse=True)\n",
    "    \n",
    "    # Generate points to add\n",
    "    \n",
    "    add_to_team: Dict[str, int] = {}\n",
    "        \n",
    "    for i in range(0, 10):\n",
    "        add_to_team.update({sorted_state[i][0]: point_scale[i]})\n",
    "        \n",
    "    return add_to_team"
   ]
  },
  {
   "cell_type": "code",
   "execution_count": 13,
   "id": "63206119",
   "metadata": {},
   "outputs": [],
   "source": [
    "# State update function\n",
    "def s_team(_params, substep, sH, s, _input, **kwargs):\n",
    "    \n",
    "    prev_state = s['F1_teams']\n",
    "    \n",
    "    new_state = {}\n",
    "    \n",
    "    for key, value in prev_state.items():\n",
    "        points = value.get_points()\n",
    "        \n",
    "        total = points + _input[key]\n",
    "        \n",
    "        new_state[key] = Team(value.get_name(), value.get_budget())\n",
    "        \n",
    "        new_state[key].add_points(total)\n",
    "        \n",
    "    return ('F1_teams', new_state)\n",
    "    "
   ]
  },
  {
   "cell_type": "code",
   "execution_count": 14,
   "id": "2ef9a139",
   "metadata": {},
   "outputs": [],
   "source": [
    "# Partial update blocks\n",
    "PUB = [{\n",
    "    \"policies\":\n",
    "    {\n",
    "        \"action\": p_update_rank\n",
    "    },\n",
    "    \"variables\":\n",
    "    {\n",
    "        'F1_teams': s_team\n",
    "    }\n",
    "}]"
   ]
  },
  {
   "cell_type": "code",
   "execution_count": 15,
   "id": "742e91b6",
   "metadata": {},
   "outputs": [],
   "source": [
    "sim_params = {\n",
    "    'N': 1,\n",
    "    'T': range(5),\n",
    "    'M': {}\n",
    "}"
   ]
  },
  {
   "cell_type": "code",
   "execution_count": 16,
   "id": "21fec9e7",
   "metadata": {},
   "outputs": [],
   "source": [
    "exp = Experiment()\n",
    "exp.append_model(\n",
    "    initial_state = genesis_states, \n",
    "    partial_state_update_blocks = PUB, \n",
    "    sim_configs=sim_params)\n",
    "\n",
    "config = exp.configs"
   ]
  },
  {
   "cell_type": "code",
   "execution_count": 33,
   "id": "e6b47091",
   "metadata": {},
   "outputs": [
    {
     "ename": "ModuleNotFoundError",
     "evalue": "No module named 'matplotlib'",
     "output_type": "error",
     "traceback": [
      "\u001b[0;31m---------------------------------------------------------------------------\u001b[0m",
      "\u001b[0;31mModuleNotFoundError\u001b[0m                       Traceback (most recent call last)",
      "\u001b[0;32m/tmp/ipykernel_11177/1016131110.py\u001b[0m in \u001b[0;36m<module>\u001b[0;34m\u001b[0m\n\u001b[1;32m      1\u001b[0m \u001b[0;32mimport\u001b[0m \u001b[0mpandas\u001b[0m \u001b[0;32mas\u001b[0m \u001b[0mpd\u001b[0m\u001b[0;34m\u001b[0m\u001b[0;34m\u001b[0m\u001b[0m\n\u001b[0;32m----> 2\u001b[0;31m \u001b[0;32mimport\u001b[0m \u001b[0mmatplotlib\u001b[0m\u001b[0;34m.\u001b[0m\u001b[0mpyplot\u001b[0m \u001b[0;32mas\u001b[0m \u001b[0mplt\u001b[0m\u001b[0;34m\u001b[0m\u001b[0;34m\u001b[0m\u001b[0m\n\u001b[0m\u001b[1;32m      3\u001b[0m \u001b[0;32mfrom\u001b[0m \u001b[0mtabulate\u001b[0m \u001b[0;32mimport\u001b[0m \u001b[0mtabulate\u001b[0m\u001b[0;34m\u001b[0m\u001b[0;34m\u001b[0m\u001b[0m\n\u001b[1;32m      4\u001b[0m \u001b[0;32mfrom\u001b[0m \u001b[0mcadCAD\u001b[0m\u001b[0;34m.\u001b[0m\u001b[0mengine\u001b[0m \u001b[0;32mimport\u001b[0m \u001b[0mExecutionMode\u001b[0m\u001b[0;34m,\u001b[0m \u001b[0mExecutionContext\u001b[0m\u001b[0;34m,\u001b[0m \u001b[0mExecutor\u001b[0m\u001b[0;34m\u001b[0m\u001b[0;34m\u001b[0m\u001b[0m\n\u001b[1;32m      5\u001b[0m \u001b[0;34m\u001b[0m\u001b[0m\n",
      "\u001b[0;31mModuleNotFoundError\u001b[0m: No module named 'matplotlib'"
     ]
    }
   ],
   "source": [
    "import pandas as pd\n",
    "import matplotlib.pyplot as plt\n",
    "from tabulate import tabulate\n",
    "from cadCAD.engine import ExecutionMode, ExecutionContext, Executor\n",
    "\n",
    "exec_mode = ExecutionMode()\n",
    "local_proc_ctx = ExecutionContext(context=exec_mode.local_mode)\n",
    "\n",
    "run = Executor(exec_context=local_proc_ctx, configs=config)\n",
    "\n",
    "raw_result, tensor_fields, _ = run.execute()\n",
    "result = pd.DataFrame(raw_result)\n",
    "\n",
    "print(tabulate(tensor_fields[0], headers='keys', tablefmt='psql'))\n",
    "print(tabulate(result, headers='keys', tablefmt='psql'))"
   ]
  },
  {
   "cell_type": "code",
   "execution_count": 32,
   "id": "0e9f03fc",
   "metadata": {},
   "outputs": [
    {
     "data": {
      "text/plain": [
       "3    {'mercedes': 75, 'redbull': 45, 'ferrari': 54,...\n",
       "4    {'mercedes': 100, 'redbull': 60, 'ferrari': 72...\n",
       "5    {'mercedes': 125, 'redbull': 75, 'ferrari': 90...\n",
       "Name: F1_teams, dtype: object"
      ]
     },
     "execution_count": 32,
     "metadata": {},
     "output_type": "execute_result"
    }
   ],
   "source": [
    "foo = result.loc[result[\"timestep\"] > 2, \"F1_teams\"]\n",
    "foo.head()"
   ]
  },
  {
   "cell_type": "code",
   "execution_count": null,
   "id": "89c212ec",
   "metadata": {},
   "outputs": [],
   "source": []
  }
 ],
 "metadata": {
  "kernelspec": {
   "display_name": "Python 3 (ipykernel)",
   "language": "python",
   "name": "python3"
  },
  "language_info": {
   "codemirror_mode": {
    "name": "ipython",
    "version": 3
   },
   "file_extension": ".py",
   "mimetype": "text/x-python",
   "name": "python",
   "nbconvert_exporter": "python",
   "pygments_lexer": "ipython3",
   "version": "3.8.10"
  }
 },
 "nbformat": 4,
 "nbformat_minor": 5
}
