{
 "cells": [
  {
   "cell_type": "markdown",
   "id": "b8a93b02",
   "metadata": {},
   "source": [
    "# F1 Racing Simulator\n",
    "\n",
    "Simulating F1 racing with various control variables such as budgets, drivers and weather.\\\n",
    "\n",
    "Weather will increase the randomness of driver failing to finish the race because they crashed.\\\n",
    "\n",
    "Todo: \\\n",
    "non-determinism\\\n",
    "drivers\\\n",
    "weather"
   ]
  },
  {
   "cell_type": "code",
   "execution_count": 11,
   "id": "de80462a",
   "metadata": {
    "scrolled": false
   },
   "outputs": [],
   "source": [
    "from cadCAD.configuration import Experiment\n",
    "from cadCAD.configuration.utils import config_sim\n",
    "from teams import Team"
   ]
  },
  {
   "cell_type": "code",
   "execution_count": 12,
   "id": "ab025478",
   "metadata": {},
   "outputs": [],
   "source": [
    "# Team budget: https://beyondtheflag.com/2019/11/06/formula-1-current-team-budgets-175m-cap-impending/\n",
    "F1_teams = {\n",
    "    'mercedes': Team(\"Mercedes\", 484),\n",
    "    'redbull': Team(\"Red Bull\", 445),\n",
    "    'ferrari': Team(\"Ferrari\", 463),\n",
    "    'mclaren': Team(\"McLaren\", 269),\n",
    "    'renault': Team(\"Renault\", 272),\n",
    "    'racingpoint': Team(\"Racing Point\", 188),\n",
    "    'haas': Team(\"Haas\", 173),\n",
    "    'alfaromeo': Team(\"Alfa Romeo Racing\", 141),\n",
    "    'tororosso': Team(\"Toro Rosso\", 138),\n",
    "    'williams': Team(\"Williams\", 132)\n",
    "}\n",
    "\n",
    "genesis_states = {'Race_teams': F1_teams}"
   ]
  },
  {
   "cell_type": "markdown",
   "id": "a9bcc5f3",
   "metadata": {},
   "source": [
    "Policy function will determine how many points each team earns.\\\n",
    "For now, fastest car will always win the race."
   ]
  },
  {
   "cell_type": "code",
   "execution_count": 13,
   "id": "79ad9718",
   "metadata": {},
   "outputs": [],
   "source": [
    "import random\n",
    "random.seed()\n",
    "\n",
    "# Possibility for a driver to not finish a race\n",
    "posibility={'normal': 1, 'poor': 3, 'raining': 4}\n",
    "\n",
    "point_scale = [25, 18, 15, 12, 10, 8, 6, 4, 2, 1]  \n",
    "\n",
    "# Policy functions\n",
    "def p_update_rank(_params, substep, sH, s, **kwargs):\n",
    "    \n",
    "    road_condition = 'poor'\n",
    "\n",
    "    prev_state = s['Race_teams']\n",
    "    \n",
    "    # For now, the team with a fastest car will win\n",
    "    sorted_state = sorted(F1_teams.items(), key=lambda team:team[1].car_speed(), reverse=True)\n",
    "    \n",
    "    # Generate points to add\n",
    "    \n",
    "    add_to_team: Dict[str, int] = {}\n",
    "        \n",
    "    # There are 2 drivers per team and they both drive in a race.\n",
    "    # Which means each team has possibility to earn points twice.\n",
    "        \n",
    "    for i in range(0, 10):\n",
    "        \n",
    "            \n",
    "        driver1 = random.randrange(10)\n",
    "        driver2 = random.randrange(10)\n",
    "    \n",
    "        if driver1 <= posibility[road_condition]:\n",
    "            add_to_team.update({sorted_state[i][0]: 0})\n",
    "        else:\n",
    "            add_to_team.update({sorted_state[i][0]: point_scale[i]})\n",
    "            \n",
    "        if driver2 <= posibility[road_condition]:\n",
    "            add_to_team.update({sorted_state[i][0]: 0})\n",
    "        else:\n",
    "            add_to_team.update({sorted_state[i][0]: point_scale[i]})\n",
    "        \n",
    "    return add_to_team"
   ]
  },
  {
   "cell_type": "code",
   "execution_count": 14,
   "id": "63206119",
   "metadata": {},
   "outputs": [],
   "source": [
    "# State update function\n",
    "def s_team(_params, substep, sH, s, _input, **kwargs):\n",
    "    \n",
    "    prev_state = s['Race_teams']\n",
    "    \n",
    "    new_state = {}\n",
    "    \n",
    "    for key, value in prev_state.items():\n",
    "        points = value.get_points()\n",
    "        \n",
    "        total = points + _input[key]\n",
    "        \n",
    "        new_state[key] = Team(value.get_name(), value.get_budget())\n",
    "        \n",
    "        new_state[key].add_points(total)\n",
    "        \n",
    "    return ('Race_teams', new_state)\n",
    "    "
   ]
  },
  {
   "cell_type": "code",
   "execution_count": 15,
   "id": "2ef9a139",
   "metadata": {},
   "outputs": [],
   "source": [
    "# Partial update blocks\n",
    "PUB = [{\n",
    "    \"policies\":\n",
    "    {\n",
    "        \"action\": p_update_rank\n",
    "    },\n",
    "    \"variables\":\n",
    "    {\n",
    "        'Race_teams': s_team\n",
    "    }\n",
    "}]"
   ]
  },
  {
   "cell_type": "code",
   "execution_count": 16,
   "id": "742e91b6",
   "metadata": {},
   "outputs": [],
   "source": [
    "sim_params = {\n",
    "    'N': 1,\n",
    "    'T': range(5),\n",
    "    'M': {}\n",
    "}"
   ]
  },
  {
   "cell_type": "code",
   "execution_count": 17,
   "id": "21fec9e7",
   "metadata": {},
   "outputs": [],
   "source": [
    "exp = Experiment()\n",
    "exp.append_model(\n",
    "    initial_state = genesis_states, \n",
    "    partial_state_update_blocks = PUB, \n",
    "    sim_configs=sim_params)\n",
    "\n",
    "config = exp.configs"
   ]
  },
  {
   "cell_type": "code",
   "execution_count": 18,
   "id": "e6b47091",
   "metadata": {
    "scrolled": true
   },
   "outputs": [
    {
     "name": "stdout",
     "output_type": "stream",
     "text": [
      "\n",
      "                  ___________    ____\n",
      "  ________ __ ___/ / ____/   |  / __ \\\n",
      " / ___/ __` / __  / /   / /| | / / / /\n",
      "/ /__/ /_/ / /_/ / /___/ ___ |/ /_/ /\n",
      "\\___/\\__,_/\\__,_/\\____/_/  |_/_____/\n",
      "by cadCAD\n",
      "\n",
      "cadCAD Version: 0.4.28\n",
      "Execution Mode: local_proc\n",
      "Simulation Dimensions:\n",
      "Entire Simulation: (Models, Unique Timesteps, Params, Total Runs, Sub-States) = (1, 5, 0, 1, 1)\n",
      "     Simulation 0: (Timesteps, Params, Runs, Sub-States) = (5, 0, 1, 1)\n",
      "Execution Method: local_simulations\n",
      "Execution Mode: single_threaded\n",
      "Total execution time: 0.01s\n",
      "+----+-------------------------------------------------------------------------------------------------------------------------------------------------------------+--------------+----------+-------+-----------+------------+\n",
      "|    | Race_teams                                                                                                                                                  |   simulation |   subset |   run |   substep |   timestep |\n",
      "|----+-------------------------------------------------------------------------------------------------------------------------------------------------------------+--------------+----------+-------+-----------+------------|\n",
      "|  0 | {'mercedes': 0, 'redbull': 0, 'ferrari': 0, 'mclaren': 0, 'renault': 0, 'racingpoint': 0, 'haas': 0, 'alfaromeo': 0, 'tororosso': 0, 'williams': 0}         |            0 |        0 |     1 |         0 |          0 |\n",
      "|  1 | {'mercedes': 0, 'redbull': 0, 'ferrari': 0, 'mclaren': 10, 'renault': 12, 'racingpoint': 0, 'haas': 6, 'alfaromeo': 0, 'tororosso': 2, 'williams': 0}       |            0 |        0 |     1 |         1 |          1 |\n",
      "|  2 | {'mercedes': 25, 'redbull': 15, 'ferrari': 18, 'mclaren': 10, 'renault': 12, 'racingpoint': 8, 'haas': 6, 'alfaromeo': 0, 'tororosso': 2, 'williams': 0}    |            0 |        0 |     1 |         1 |          2 |\n",
      "|  3 | {'mercedes': 25, 'redbull': 30, 'ferrari': 36, 'mclaren': 10, 'renault': 24, 'racingpoint': 16, 'haas': 6, 'alfaromeo': 4, 'tororosso': 4, 'williams': 0}   |            0 |        0 |     1 |         1 |          3 |\n",
      "|  4 | {'mercedes': 50, 'redbull': 45, 'ferrari': 54, 'mclaren': 20, 'renault': 36, 'racingpoint': 24, 'haas': 12, 'alfaromeo': 8, 'tororosso': 4, 'williams': 1}  |            0 |        0 |     1 |         1 |          4 |\n",
      "|  5 | {'mercedes': 75, 'redbull': 45, 'ferrari': 72, 'mclaren': 30, 'renault': 36, 'racingpoint': 32, 'haas': 18, 'alfaromeo': 12, 'tororosso': 6, 'williams': 2} |            0 |        0 |     1 |         1 |          5 |\n",
      "+----+-------------------------------------------------------------------------------------------------------------------------------------------------------------+--------------+----------+-------+-----------+------------+\n"
     ]
    }
   ],
   "source": [
    "import pandas as pd\n",
    "import matplotlib.pyplot as plt\n",
    "from tabulate import tabulate\n",
    "from cadCAD.engine import ExecutionMode, ExecutionContext, Executor\n",
    "\n",
    "exec_mode = ExecutionMode()\n",
    "local_proc_ctx = ExecutionContext(context=exec_mode.local_mode)\n",
    "\n",
    "run = Executor(exec_context=local_proc_ctx, configs=config)\n",
    "\n",
    "raw_result, tensor_fields, _ = run.execute()\n",
    "result = pd.DataFrame(raw_result)\n",
    "\n",
    "print(tabulate(result, headers='keys', tablefmt='psql'))"
   ]
  },
  {
   "cell_type": "code",
   "execution_count": 19,
   "id": "9ccf2cca",
   "metadata": {},
   "outputs": [
    {
     "data": {
      "text/plain": [
       "Text(0, 0.5, 'Points')"
      ]
     },
     "execution_count": 19,
     "metadata": {},
     "output_type": "execute_result"
    },
    {
     "data": {
      "image/png": "[encoded data removed]",
      "text/plain": [
       "<Figure size 432x288 with 1 Axes>"
      ]
     },
     "metadata": {
      "needs_background": "light"
     },
     "output_type": "display_data"
    }
   ],
   "source": [
    "new_result = []\n",
    "for i in raw_result:\n",
    "    row = {}\n",
    "    for key, value in i.items():\n",
    "        if key == 'Race_teams':\n",
    "            for key, value in value.items():\n",
    "                row.update({value.get_name(): value.get_points()})\n",
    "        elif key == 'timestep':\n",
    "            row.update({key: value})\n",
    "    new_result.append(row)\n",
    "\n",
    "graph = pd.DataFrame(new_result).plot('timestep')\n",
    "graph.set_xlabel(\"Race\")\n",
    "graph.set_ylabel(\"Points\")"
   ]
  },
  {
   "cell_type": "code",
   "execution_count": 10,
   "id": "f342995a",
   "metadata": {},
   "outputs": [
    {
     "data": {
      "text/plain": [
       "6"
      ]
     },
     "execution_count": 10,
     "metadata": {},
     "output_type": "execute_result"
    }
   ],
   "source": [
    "import random\n",
    "random.seed()\n",
    "random.randrange(10)"
   ]
  },
  {
   "cell_type": "code",
   "execution_count": null,
   "id": "961dba82",
   "metadata": {},
   "outputs": [],
   "source": []
  }
 ],
 "metadata": {
  "kernelspec": {
   "display_name": "Python 3 (ipykernel)",
   "language": "python",
   "name": "python3"
  },
  "language_info": {
   "codemirror_mode": {
    "name": "ipython",
    "version": 3
   },
   "file_extension": ".py",
   "mimetype": "text/x-python",
   "name": "python",
   "nbconvert_exporter": "python",
   "pygments_lexer": "ipython3",
   "version": "3.8.10"
  }
 },
 "nbformat": 4,
 "nbformat_minor": 5
}
